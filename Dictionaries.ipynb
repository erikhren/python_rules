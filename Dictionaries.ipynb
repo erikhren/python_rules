{
 "cells": [
  {
   "cell_type": "markdown",
   "metadata": {},
   "source": [
    "## Dictionaries \n",
    "\n",
    "A dictionary is a collection with keys and values. Key can be considered a name/variable that has 1 or more values (e.g. {'kg':12,32,42,'cm':12,32,21}). To create a dictionary you can use dictionary = {} OR function dict(). Dictionaries can be nested like lists e.g. {'results':12,{'something':12,23,12}}. Pandas dataframes can be created or converted with dictionaries and lists. To access the values in a dictionary --> variable_name['key'] OR variable_name.items(). To find keys --> variable_name.keys(). Dictionary values do not have a specific order (you either sort them or turn them into a dataframe/list and sort them there). To normalize/create dataframe out of dictionary or json you can use pd.json_normalize() from pandas module to create a dataframe or pd.DataFrame.\n",
    "\n",
    "#### SORTING A DICTIONARY --> reverse the key and value (sort by values)\n",
    "rev_counts = {v:k for k,v in counts.items()}\n",
    "<br>\n",
    "- get keys from the `rev_counts` dict\n",
    "- keep in mind that the keys have values in the original dict<br>\n",
    "val_lst = list(rev_counts.keys()) --> create a list so we sort it <br>\n",
    "- sort the value list <br>\n",
    "val_lst.sort()<br>\n",
    "for val in val_lst:<br>\n",
    "- reason we print it out this way is that <br>\n",
    "- we need to reverse it back to the original (key, value) pairs<br>\n",
    "    print(rev_counts[val], val)<br>\n",
    "print(rev_counts)<br>\n",
    "<br>\n",
    "purse[\"money\"] = 12 # want to store 12 in this dict and label it money <br>\n",
    "print(purse) --> {\"money:12\"...} # no order remember<br>\n",
    "purse[\"money\"] # select a label<br>\n",
    "purse[\"money\"] = purse[\"candy\"] + 2 # find money and add 2 to it --> 15<br>\n",
    "- for lists you use .append()<br>\n",
    "purse[\"money\"] = 5 # override and now from 15 becomes 5<br>"
   ]
  },
  {
   "cell_type": "code",
   "execution_count": 13,
   "metadata": {},
   "outputs": [
    {
     "name": "stdout",
     "output_type": "stream",
     "text": [
      "{'Name': 12, 'DR': 30, 'bla': 100}\n"
     ]
    }
   ],
   "source": [
    "# practice examples for adding key value pairs to dictionary\n",
    "t = {} \n",
    "#add\n",
    "t[\"Name\"] = 12\n",
    "t[\"DR\"] = 30\n",
    "t[\"bla\"] = 100\n",
    "print(t)"
   ]
  },
  {
   "cell_type": "code",
   "execution_count": 14,
   "metadata": {},
   "outputs": [
    {
     "name": "stdout",
     "output_type": "stream",
     "text": [
      "{'Name': 24, 'DR': 40, 'bla': 50}\n"
     ]
    }
   ],
   "source": [
    "# update\n",
    "t[\"Name\"] = t[\"Name\"]*2\n",
    "t[\"DR\"] = t[\"DR\"]+10\n",
    "t[\"bla\"] = t[\"bla\"] -50\n",
    "print(t)"
   ]
  },
  {
   "cell_type": "code",
   "execution_count": 15,
   "metadata": {},
   "outputs": [
    {
     "name": "stdout",
     "output_type": "stream",
     "text": [
      "{'Name': 24, 'DR': 12, 'bla': 100}\n"
     ]
    }
   ],
   "source": [
    "# overide\n",
    "t[\"bla\"] = 100\n",
    "t[\"DR\"] = 12\n",
    "print(t)"
   ]
  },
  {
   "cell_type": "code",
   "execution_count": 16,
   "metadata": {},
   "outputs": [
    {
     "name": "stdout",
     "output_type": "stream",
     "text": [
      "{'Name': 24}\n"
     ]
    }
   ],
   "source": [
    "# deleting 2 ways to do it (there are more)\n",
    "del t[\"DR\"]\n",
    "t.pop(\"bla\",None)\n",
    "print(t)"
   ]
  },
  {
   "cell_type": "code",
   "execution_count": 17,
   "metadata": {},
   "outputs": [
    {
     "name": "stdout",
     "output_type": "stream",
     "text": [
      "Enter a line of text:\n",
      "sd ds sd ll ll \n",
      "Words ['sd', 'ds', 'sd', 'll', 'll']\n",
      "Counting\n",
      "Counts {'sd': 2, 'ds': 1, 'll': 2}\n"
     ]
    }
   ],
   "source": [
    "#Counting words in text (files)\n",
    "#counting pattern:\n",
    "counts = dict()\n",
    "print(\"Enter a line of text:\")\n",
    "line = input(\"\")\n",
    "words = line.split() # general pattern to count words --> every line/word gets seperated with , (str split)\n",
    "print(\"Words\", words)\n",
    "print(\"Counting\")\n",
    "\n",
    "# Iterate through already existing dict with keys\n",
    "# for keys in words \n",
    "# the key and value in the words is key in the counts --> go through counts dict and get the key and corresponding value\n",
    "# value is default --> if not there it returns 0 --> but we say add 1 if this is the first time you see it\n",
    "# if the value is there already it already is one so you add 1 more \n",
    "for word in words: \n",
    "    counts[word] = counts.get(word,0) + 1\n",
    "print(\"Counts\", counts)\n",
    "#Counts{\"and\":3,...}"
   ]
  },
  {
   "cell_type": "code",
   "execution_count": 18,
   "metadata": {},
   "outputs": [
    {
     "name": "stdout",
     "output_type": "stream",
     "text": [
      "['chuck', 'annie', 'jan']\n",
      "annie 42\n",
      "chuck 1\n",
      "jan 100\n"
     ]
    }
   ],
   "source": [
    "# if we want to sort it alphabetically --> first need to create a list of just keys (.keys() method)\n",
    "# cuz need just letters so that we can then --> sort them .sort()\n",
    "# then you iterate through the sorted keys list and print the key and the value from the dictionary \n",
    "# key in dict is the same in the list only in order --> print(key,counts[key])\n",
    "counts = { 'chuck' : 1 , 'annie' : 42, 'jan': 100}\n",
    "lst = list(counts.keys())\n",
    "print(lst)\n",
    "lst.sort()\n",
    "for key in lst:\n",
    "    print(key, counts[key])"
   ]
  },
  {
   "cell_type": "code",
   "execution_count": null,
   "metadata": {},
   "outputs": [],
   "source": []
  }
 ],
 "metadata": {
  "kernelspec": {
   "display_name": "Python 3",
   "language": "python",
   "name": "python3"
  },
  "language_info": {
   "codemirror_mode": {
    "name": "ipython",
    "version": 3
   },
   "file_extension": ".py",
   "mimetype": "text/x-python",
   "name": "python",
   "nbconvert_exporter": "python",
   "pygments_lexer": "ipython3",
   "version": "3.7.6"
  }
 },
 "nbformat": 4,
 "nbformat_minor": 4
}
